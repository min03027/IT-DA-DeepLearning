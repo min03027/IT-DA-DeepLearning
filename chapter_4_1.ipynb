{
  "nbformat": 4,
  "nbformat_minor": 0,
  "metadata": {
    "colab": {
      "provenance": [],
      "collapsed_sections": [],
      "authorship_tag": "ABX9TyOeujozd60xscz4dTt3g2jF",
      "include_colab_link": true
    },
    "kernelspec": {
      "name": "python3",
      "display_name": "Python 3"
    },
    "language_info": {
      "name": "python"
    }
  },
  "cells": [
    {
      "cell_type": "markdown",
      "metadata": {
        "id": "view-in-github",
        "colab_type": "text"
      },
      "source": [
        "<a href=\"https://colab.research.google.com/github/min03027/IT-DA-DeepLearning/blob/main/chapter_4_1.ipynb\" target=\"_parent\"><img src=\"https://colab.research.google.com/assets/colab-badge.svg\" alt=\"Open In Colab\"/></a>"
      ]
    },
    {
      "cell_type": "markdown",
      "source": [
        "#신경망 학습\n",
        "학습 : 훈련 데이터로부터 가중치 매개변수의 최적값을 자동으로 획득하는 것을 뜻합니다. \n",
        "손실함수 : 신경망이 학습할 수 있도록 해주는 지표\n",
        "손실함수의 결과값을 가장 작게 만드는 가중치 매개변수를 찾는것이 학습의 목표\n",
        "-> 이번장에서는 함수의 기울기를 활용하는 경사법 소개"
      ],
      "metadata": {
        "id": "t3Tmt_fWdZWX"
      }
    },
    {
      "cell_type": "markdown",
      "source": [
        "#4.1 데이터에서 학습한다!\n",
        "\n",
        "신경망의 특징? 데이터를 보고 학습할 수 있다는 것\n",
        "신경망 학습을 통해 데이터로부터 매개변수의 값을 정하는 방법\n",
        "\n",
        "2장의 퍼셉트론도 선형분리가능한 문제라면 데이터를 자동으로 학습할 수 있다.\n",
        "퍼셉트론 수렴정리를 통해 증명됨, 하지만 비선형 분리 문제는 학습할 수 없음\n"
      ],
      "metadata": {
        "id": "BeMOyTxRfFFi"
      }
    },
    {
      "cell_type": "markdown",
      "source": [
        "#4.1.1 데이터 주도 학습\n",
        "\n",
        "데이터에서 답을 찾고 데이터에서 패턴을 찾는다. 기계학습의 중심에는 데이터가 존재한다,\n",
        "\n",
        "기계학습에서는 사람의 개입을 최소화하고 수집한 데이터로부터 패턴을 찾으려 시도한다. \n",
        "사람의 개입을 더욱 배제할 수 있다. \n",
        "\n",
        "이미지에서 특징을 추출하고 그 특징의 패턴을 기계학습 기술로 학습하는 방법\n",
        "특징은?\n",
        "입력데이터(입력 이미지)에서 본질적인 데이터(중요한 데이터)를 정확하게 추출할 수 있도록 설계된 변환기\n",
        "\n",
        "딥러닝 : 종단간 기계학습 (처음부터 끝까지 , 데이터 입력값에서 목표한 결과를 사람의 개입 없이 얻는다는 것\n",
        "\n",
        "산경망은 모든 문제를 주어진 데이터 그대로를 입력 데이터로 활용해 end-to-end로 학습 할 수 있다."
      ],
      "metadata": {
        "id": "eRFb8TQggUzK"
      }
    },
    {
      "cell_type": "markdown",
      "source": [
        "#4.1.2 훈련 데이터와 시험 데이터\n",
        "훈련 데이터와 시험 데이터\n",
        "훈련데이터를 사용하여 최적의 매개변수를 찾는다. \n",
        "이후 시험 데이터를 사용하여 앞서 훈련한 모델의 실력을 평가하는 것\n",
        "나누는 이유?\n",
        "범용적으로 사용할 수 있기 떄문에, 범용능력을 제대로 평가하기 위해 훈련데이터 와 시험데이터를 분리하는 것\n",
        "\n",
        "범용능력은 아직 보지 못한 데이터로도 문제를 올바르게 풀어내는 능력이다\n",
        "'특정인의 특정 글자'가 아니라 '임의의 사람의 임의의 글자'를 잘인식해야한다. \n",
        "\n",
        "오버피팅 : 한 데이터셋에만 지나치게 최적화된 상태 "
      ],
      "metadata": {
        "id": "0emTe8r0k2Ef"
      }
    },
    {
      "cell_type": "markdown",
      "source": [
        "#4.2 손실함수\n",
        "신경망 학습에서는 현재의 상태를 하나의 지표로 표현합니다. \n",
        "그리고 그 지표를 만들어주는 가중치 매개변수의 값을 탐색하는 것 \n",
        "\n",
        "손실함수는 보통 오차제곱합과 교차 엔트로피 오차를 사용한다.\n"
      ],
      "metadata": {
        "id": "v_reGISPm274"
      }
    },
    {
      "cell_type": "markdown",
      "source": [
        "#4.2.1 오차제곱합\n",
        "\n",
        "원-핫 인코딩 : 한 원소만 1로 하고 그 외는 0으로 나타내는 표기법\n",
        "\n",
        "오차제곱합 \n",
        ": 각 원소의 출력(추정값)과 정답 레이블(참 값)의 차를 제곱한 후, 그 총합을 구한다. "
      ],
      "metadata": {
        "id": "L7Bv_2vSoudE"
      }
    },
    {
      "cell_type": "code",
      "source": [
        "import numpy as np"
      ],
      "metadata": {
        "id": "XGAsKEqwrn_l"
      },
      "execution_count": null,
      "outputs": []
    },
    {
      "cell_type": "code",
      "source": [
        "def sum_squares_error(y,t):\n",
        "  return 0.5 * np.sum((y-t)**2)\n"
      ],
      "metadata": {
        "id": "a8EUdXgXqQTP"
      },
      "execution_count": null,
      "outputs": []
    },
    {
      "cell_type": "code",
      "source": [
        "t =[0,0,1,0,0,0,0,0,0,0]\n",
        "y = [0.1,0.05,0.6,0.0,0.05,0.1,0.0,0.1,0.0,0.0]\n",
        "sum_squares_error(np.array(y),np.array(t))\n"
      ],
      "metadata": {
        "colab": {
          "base_uri": "https://localhost:8080/"
        },
        "id": "UMjLhXMlqr8M",
        "outputId": "aab1ef3a-6ef8-4f0d-a3f2-98d8a1d3497f"
      },
      "execution_count": null,
      "outputs": [
        {
          "output_type": "execute_result",
          "data": {
            "text/plain": [
              "0.09750000000000003"
            ]
          },
          "metadata": {},
          "execution_count": 8
        }
      ]
    },
    {
      "cell_type": "code",
      "source": [
        "y = [0.1,0.05,0.1,0.0,0.05,0.1,0.0,0.6,0.0,0.0]\n",
        "sum_squares_error(np.array(y),np.array(t))"
      ],
      "metadata": {
        "colab": {
          "base_uri": "https://localhost:8080/"
        },
        "id": "8xuG1K8orWpn",
        "outputId": "7f10eefa-7489-4aa1-dc32-82f2afc1160f"
      },
      "execution_count": null,
      "outputs": [
        {
          "output_type": "execute_result",
          "data": {
            "text/plain": [
              "0.5975"
            ]
          },
          "metadata": {},
          "execution_count": 9
        }
      ]
    },
    {
      "cell_type": "markdown",
      "source": [
        "#4.2.2 교차 엔트로피 오차\n",
        "\n",
        "교차 엔트로피 오차는 정답일 때의 출력이 전체 값을 정하게 된다. \n"
      ],
      "metadata": {
        "id": "fGzbpIugscf4"
      }
    },
    {
      "cell_type": "code",
      "source": [
        "def cross_entropy_error(y,t):\n",
        "  delta = 1e-7 #마이너스가 되면 계산할 수 없어지기 때문에 매우 작은 값을 더해서 절대 0이 되지 않도록 해준다.\n",
        "  return -np.sum(t*np.log(y+delta)) "
      ],
      "metadata": {
        "id": "UAlVXXNksZWF"
      },
      "execution_count": null,
      "outputs": []
    },
    {
      "cell_type": "code",
      "source": [
        "t = [0,0,1,0,0,0,0,0,0,0]\n",
        "y = [0.1,0.05,0.6,0.0,0.05,0.1,0.0,0.1,0.0,0.0]\n",
        "cross_entropy_error(np.array(y),np.array(t))"
      ],
      "metadata": {
        "colab": {
          "base_uri": "https://localhost:8080/"
        },
        "id": "mR2aMW0qwGBe",
        "outputId": "4ddb535a-d082-46ea-958a-c957f0eebc08"
      },
      "execution_count": null,
      "outputs": [
        {
          "output_type": "execute_result",
          "data": {
            "text/plain": [
              "0.510825457099338"
            ]
          },
          "metadata": {},
          "execution_count": 11
        }
      ]
    },
    {
      "cell_type": "code",
      "source": [
        "y = [0.1,0.05,0.1,0.0,0.05,0.1,0.0,0.6,0.0,0.0]\n",
        "cross_entropy_error(np.array(y),np.array(t))"
      ],
      "metadata": {
        "colab": {
          "base_uri": "https://localhost:8080/"
        },
        "id": "iQ5wDHCqwlF8",
        "outputId": "f97f7d1e-8bcd-45d5-e21f-23adf31bf2eb"
      },
      "execution_count": null,
      "outputs": [
        {
          "output_type": "execute_result",
          "data": {
            "text/plain": [
              "2.302584092994546"
            ]
          },
          "metadata": {},
          "execution_count": 12
        }
      ]
    },
    {
      "cell_type": "markdown",
      "source": [
        "#4.2.3 미니배치 학습\n",
        "\n",
        "데이러 하나에 대한 손실 함수를 넘어서 \n",
        "훈련 데이터 모두에 대한 손실함수의 합을 구하는 방법\n",
        "데이터 하나에 대한 손실함수를 단순히 N개의 데이터로 확정한다. 다만 마지막에 n으로 나누어 정규화한다. 이를 통해 '평균 손실 함수'를 구한다. \n",
        "\n",
        "신경망 학습에서 훈련 데이터로 부터 일부만 골라 학습을 수행한다.(근사치)\n",
        "이 일부를 미니배치라 한다. 또한 이를 이용한 학습을 미니배치 학습이라 한다. "
      ],
      "metadata": {
        "id": "rAzfX0FUxz-W"
      }
    },
    {
      "cell_type": "code",
      "source": [],
      "metadata": {
        "id": "Ney-StaB0OMs"
      },
      "execution_count": null,
      "outputs": []
    }
  ]
}