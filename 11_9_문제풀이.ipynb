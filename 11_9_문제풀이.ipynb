{
  "nbformat": 4,
  "nbformat_minor": 0,
  "metadata": {
    "colab": {
      "provenance": [],
      "authorship_tag": "ABX9TyM9/pcMAZC4WEo7MdzQOUcT",
      "include_colab_link": true
    },
    "kernelspec": {
      "name": "python3",
      "display_name": "Python 3"
    },
    "language_info": {
      "name": "python"
    }
  },
  "cells": [
    {
      "cell_type": "markdown",
      "metadata": {
        "id": "view-in-github",
        "colab_type": "text"
      },
      "source": [
        "<a href=\"https://colab.research.google.com/github/min03027/IT-DA-DeepLearning/blob/main/11_9_%EB%AC%B8%EC%A0%9C%ED%92%80%EC%9D%B4.ipynb\" target=\"_parent\"><img src=\"https://colab.research.google.com/assets/colab-badge.svg\" alt=\"Open In Colab\"/></a>"
      ]
    },
    {
      "cell_type": "markdown",
      "source": [
        "#파이썬 대소문자 바꿔서 출력하기"
      ],
      "metadata": {
        "id": "zMFR4jcEWhZP"
      }
    },
    {
      "cell_type": "code",
      "source": [
        "put =input()\n",
        "result = ''\n",
        "\n",
        "for x in put:\n",
        "  if x.islower():\n",
        "    result += x.upper()\n",
        "  elif x.isupper():\n",
        "    result += x.lower()\n",
        "print(result)"
      ],
      "metadata": {
        "colab": {
          "base_uri": "https://localhost:8080/"
        },
        "id": "rGXMDkBHWmDm",
        "outputId": "cd497265-5022-4718-e8f6-7b71f1c2815a"
      },
      "execution_count": 3,
      "outputs": [
        {
          "output_type": "stream",
          "name": "stdout",
          "text": [
            "AAABBBcccddd\n",
            "aaabbbCCCDDD\n"
          ]
        }
      ]
    },
    {
      "cell_type": "markdown",
      "source": [
        "#소수판별"
      ],
      "metadata": {
        "id": "9Sur1cfzYICd"
      }
    },
    {
      "cell_type": "code",
      "source": [
        "def num(x):\n",
        "  for i in range(2,x):\n",
        "    if x % i == 0:\n",
        "      return print(\"NO\")\n",
        "    else:\n",
        "      return print(\"YES\")\n",
        "\n",
        "x = int(input())\n",
        "num(x)"
      ],
      "metadata": {
        "colab": {
          "base_uri": "https://localhost:8080/"
        },
        "id": "NSoAcwRjXrri",
        "outputId": "f4916639-2239-458a-fff0-0a3fd98eb2a7"
      },
      "execution_count": 11,
      "outputs": [
        {
          "output_type": "stream",
          "name": "stdout",
          "text": [
            "7\n",
            "YES\n"
          ]
        }
      ]
    },
    {
      "cell_type": "code",
      "source": [],
      "metadata": {
        "id": "-j3mrxYAY4cU"
      },
      "execution_count": null,
      "outputs": []
    }
  ]
}