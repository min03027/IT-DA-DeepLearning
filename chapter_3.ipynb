{
  "nbformat": 4,
  "nbformat_minor": 0,
  "metadata": {
    "colab": {
      "provenance": [],
      "collapsed_sections": [],
      "authorship_tag": "ABX9TyMtEwi2YRZa9sL3TJcjA7O+",
      "include_colab_link": true
    },
    "kernelspec": {
      "name": "python3",
      "display_name": "Python 3"
    },
    "language_info": {
      "name": "python"
    }
  },
  "cells": [
    {
      "cell_type": "markdown",
      "metadata": {
        "id": "view-in-github",
        "colab_type": "text"
      },
      "source": [
        "<a href=\"https://colab.research.google.com/github/min03027/IT-DA-DeepLearning/blob/main/chapter_3.ipynb\" target=\"_parent\"><img src=\"https://colab.research.google.com/assets/colab-badge.svg\" alt=\"Open In Colab\"/></a>"
      ]
    },
    {
      "cell_type": "code",
      "execution_count": null,
      "metadata": {
        "id": "GEj8BTNTiYNn"
      },
      "outputs": [],
      "source": []
    },
    {
      "cell_type": "markdown",
      "source": [
        "#신경망의 예 \n",
        "입력층(0층) : 가장 왼쪽 줄\n",
        "은닉층(1층) : 중간 줄 \n",
        "출력층(2층) : 맨 오른 쪽 줄\n",
        "\n",
        "#퍼셉트론 복습\n",
        "네트워트에서는 편향 b가 보이지 않는다. \n",
        "퍼셉트론에서는 3개의 신호가 입력되고, 각 신호에 가중치를 곱한 후, 다음 뉴련에게 전달 된다. 다음 뉴런에서는 이 신호의 값들을 더하여 그 합이 0을 넘으면 1을 출력하고 그렇지 않느면 0을 출력한다. \n",
        "즉, 0을 넘으면 1 출력, 넘지 않으면 0 출력\n",
        "\n",
        "#활성화 함수의 등장 \n",
        "활성화 함수 \n",
        ": 입력신호의 총합을 출력신호로 변환하는 함수 \n",
        "입력신호의 총합이 활성화를 일으키는지를 정함.\n",
        "\n",
        "[식 3.2]\n",
        "가중치가 곱해진 입력 신호의 총합을 계산, 그 합을 활성화 함수에 입력 > 결과 \n",
        "\n",
        "뉴런 = 노드\n",
        "추가) 단순 퍼셉트론 : 단층 네트워트에서 계단함수를(임계값을 결계로 출력이 바뀌는 함수)를 활성화 함수로 사용한 모델\n",
        "다층 퍼셉트론 : 신경망 (여러층으로 구성되고 시그모이드 함 수 등 활성과 함수를 사용하는 네트워크)\n",
        "\n",
        "퍼셉트론에서는 활성화 함수로 계단 함수를 이용한다. \n",
        "but? 신경망에서는 계단 함수대신 다른 활성화 함수를 사용\n",
        "\n",
        "#시그모이드 함수 \n",
        "신경망에서는 활성화 함수로 계단함수 대신 시그모이드 함수를 사용한다. \n",
        "\n",
        "#계단함수 구현하기\n",
        "입력이 0을 넘으면 1을 출력하고 \n",
        "넘지 않으면 0을 출력하는 함수"
      ],
      "metadata": {
        "id": "3iITYgDdi7LZ"
      }
    },
    {
      "cell_type": "code",
      "source": [
        "def step_function(x):\n",
        "  if x > 0:\n",
        "    return 1\n",
        "  else:\n",
        "    return 0"
      ],
      "metadata": {
        "id": "O9gh_wcV0gEW"
      },
      "execution_count": null,
      "outputs": []
    },
    {
      "cell_type": "markdown",
      "source": [
        "이는 실수(부동소수점)만 받아들임\n",
        "따라서 넘파이 배열을 넣고 싶을 때에는 ?"
      ],
      "metadata": {
        "id": "_TQA2EFX05dt"
      }
    },
    {
      "cell_type": "code",
      "source": [
        "def step_function(x):\n",
        "  y = x > 0\n",
        "  return y.astype(np.int)"
      ],
      "metadata": {
        "id": "p5smJS-b0tJt"
      },
      "execution_count": null,
      "outputs": []
    },
    {
      "cell_type": "code",
      "source": [
        "import numpy as np\n",
        "x = np.array([-1,0,1.0,2.0])\n",
        "x"
      ],
      "metadata": {
        "id": "dM-cuQWd1j_D",
        "colab": {
          "base_uri": "https://localhost:8080/"
        },
        "outputId": "61796fce-2b0c-4bf5-c04a-889b203ac8ca"
      },
      "execution_count": null,
      "outputs": [
        {
          "output_type": "execute_result",
          "data": {
            "text/plain": [
              "array([-1.,  0.,  1.,  2.])"
            ]
          },
          "metadata": {},
          "execution_count": 2
        }
      ]
    },
    {
      "cell_type": "code",
      "source": [
        "y = x>0\n",
        "y"
      ],
      "metadata": {
        "colab": {
          "base_uri": "https://localhost:8080/"
        },
        "id": "06ogw_7_c2QE",
        "outputId": "b5c9b898-f532-46da-a94c-6db30a5231c3"
      },
      "execution_count": null,
      "outputs": [
        {
          "output_type": "execute_result",
          "data": {
            "text/plain": [
              "array([False, False,  True,  True])"
            ]
          },
          "metadata": {},
          "execution_count": 3
        }
      ]
    },
    {
      "cell_type": "markdown",
      "source": [
        "bool배열의 y가 생성 \n",
        "계단 함수(int형)으로 변환할 것임"
      ],
      "metadata": {
        "id": "6EZrIZqVdDON"
      }
    },
    {
      "cell_type": "code",
      "source": [
        "y = y.astype(np.int)\n",
        "y"
      ],
      "metadata": {
        "colab": {
          "base_uri": "https://localhost:8080/"
        },
        "id": "mKBvheYlc83C",
        "outputId": "5f224dea-2816-4dca-c2fc-2ec2bfcf5bab"
      },
      "execution_count": null,
      "outputs": [
        {
          "output_type": "stream",
          "name": "stderr",
          "text": [
            "/usr/local/lib/python3.7/dist-packages/ipykernel_launcher.py:1: DeprecationWarning: `np.int` is a deprecated alias for the builtin `int`. To silence this warning, use `int` by itself. Doing this will not modify any behavior and is safe. When replacing `np.int`, you may wish to use e.g. `np.int64` or `np.int32` to specify the precision. If you wish to review your current use, check the release note link for additional information.\n",
            "Deprecated in NumPy 1.20; for more details and guidance: https://numpy.org/devdocs/release/1.20.0-notes.html#deprecations\n",
            "  \"\"\"Entry point for launching an IPython kernel.\n"
          ]
        },
        {
          "output_type": "execute_result",
          "data": {
            "text/plain": [
              "array([0, 0, 1, 1])"
            ]
          },
          "metadata": {},
          "execution_count": 4
        }
      ]
    },
    {
      "cell_type": "markdown",
      "source": [
        "bool 에서 int로 변환시\n",
        "True는 1로, False는 0으로 변환된다. "
      ],
      "metadata": {
        "id": "O7hSL-8zdilP"
      }
    },
    {
      "cell_type": "code",
      "source": [
        "import numpy as np\n",
        "import matplotlib.pylab as plt\n",
        "\n",
        "def step_funtion(x):\n",
        "  return np.array( x > 0 ,dtype = np.int)\n",
        "\n",
        "x = np.arange(-5.0,5.0,0.1) #-5.0에서 5.0전까지 0.1 간격으로 넘파이 배열 생성\n",
        "y = step_funtion(x)\n",
        "plt.plot(x,y)\n",
        "plt.ylim(-0.1,1.1)\n",
        "plt.show()"
      ],
      "metadata": {
        "colab": {
          "base_uri": "https://localhost:8080/",
          "height": 340
        },
        "id": "RGYD42EXdW4j",
        "outputId": "83e5b8a0-c259-40ea-8b0f-c9df5c0e97ba"
      },
      "execution_count": null,
      "outputs": [
        {
          "output_type": "stream",
          "name": "stderr",
          "text": [
            "/usr/local/lib/python3.7/dist-packages/ipykernel_launcher.py:5: DeprecationWarning: `np.int` is a deprecated alias for the builtin `int`. To silence this warning, use `int` by itself. Doing this will not modify any behavior and is safe. When replacing `np.int`, you may wish to use e.g. `np.int64` or `np.int32` to specify the precision. If you wish to review your current use, check the release note link for additional information.\n",
            "Deprecated in NumPy 1.20; for more details and guidance: https://numpy.org/devdocs/release/1.20.0-notes.html#deprecations\n",
            "  \"\"\"\n"
          ]
        },
        {
          "output_type": "display_data",
          "data": {
            "text/plain": [
              "<Figure size 432x288 with 1 Axes>"
            ],
            "image/png": "[encoded data removed]"
          },
          "metadata": {
            "needs_background": "light"
          }
        }
      ]
    },
    {
      "cell_type": "markdown",
      "source": [
        "#3.2.4시그모이드 함수 구현하기\n"
      ],
      "metadata": {
        "id": "oemqIxS8fgyI"
      }
    },
    {
      "cell_type": "code",
      "source": [
        "def sigmoid(x):\n",
        "  return 1 / (1+np.exp(-x))\n",
        "\n",
        "x = np.array([-0.1,1.0,2.0])\n",
        "sigmoid(x)"
      ],
      "metadata": {
        "colab": {
          "base_uri": "https://localhost:8080/"
        },
        "id": "s0H_2oVrfGMX",
        "outputId": "98781db7-997b-4795-bc8f-ce7d7698c56e"
      },
      "execution_count": null,
      "outputs": [
        {
          "output_type": "execute_result",
          "data": {
            "text/plain": [
              "array([0.47502081, 0.73105858, 0.88079708])"
            ]
          },
          "metadata": {},
          "execution_count": 13
        }
      ]
    },
    {
      "cell_type": "markdown",
      "source": [
        "인수가 넘파이 배열이라도 올바른 결과가 나온다. \n",
        "브로드캐스트 기능을 통해 넘파이 배열과 스칼라값의 연산을 넘파이 배열의 원소 각각과 스칼라값의 연산으로 바꿔 수행하는 것 "
      ],
      "metadata": {
        "id": "kNMJYLQQgGSx"
      }
    },
    {
      "cell_type": "code",
      "source": [
        "t= np.array([1.0,2.0,3.0])\n",
        "1.0 + t"
      ],
      "metadata": {
        "colab": {
          "base_uri": "https://localhost:8080/"
        },
        "id": "ChgLmv4Egqi_",
        "outputId": "ec2146a0-a153-4959-ea5f-b99c7e284c50"
      },
      "execution_count": null,
      "outputs": [
        {
          "output_type": "execute_result",
          "data": {
            "text/plain": [
              "array([2., 3., 4.])"
            ]
          },
          "metadata": {},
          "execution_count": 14
        }
      ]
    },
    {
      "cell_type": "code",
      "source": [
        "1.0 / t"
      ],
      "metadata": {
        "colab": {
          "base_uri": "https://localhost:8080/"
        },
        "id": "aGkhrFQbhs0X",
        "outputId": "435b5455-ddc2-4961-f747-6d2d5bc7d632"
      },
      "execution_count": null,
      "outputs": [
        {
          "output_type": "execute_result",
          "data": {
            "text/plain": [
              "array([1.        , 0.5       , 0.33333333])"
            ]
          },
          "metadata": {},
          "execution_count": 15
        }
      ]
    },
    {
      "cell_type": "markdown",
      "source": [
        "스칼라값과 넘파이 배열 사이의 수치연산, 연산 결과가 넘파이 배열로 출력 "
      ],
      "metadata": {
        "id": "4yaVviehiF2l"
      }
    },
    {
      "cell_type": "code",
      "source": [
        "x = np.arange(-5.0,5.0,0.1)\n",
        "y = sigmoid(x)\n",
        "plt.plot(x,y)\n",
        "plt.ylim(-0.1,1.1)\n",
        "plt.show()"
      ],
      "metadata": {
        "colab": {
          "base_uri": "https://localhost:8080/",
          "height": 265
        },
        "id": "0CyZQnE0hu-z",
        "outputId": "89ef5911-ac97-4156-9762-fe785635e94b"
      },
      "execution_count": null,
      "outputs": [
        {
          "output_type": "display_data",
          "data": {
            "text/plain": [
              "<Figure size 432x288 with 1 Axes>"
            ],
            "image/png": "[encoded data removed]"
          },
          "metadata": {
            "needs_background": "light"
          }
        }
      ]
    },
    {
      "cell_type": "markdown",
      "source": [
        "#3.2.5시그모이드 함수와 계단 함수 비교\n",
        "시그모이드 함수 : 부드러운 곡선, 입력에 따라 출력이 연속적으로 변화\n",
        "계단 함수 : 0을 경계로 출력이 갑자기 변화함 \n",
        "즉, 퍼셉트론에서는 뉴런 사이에 0혹은 1이 흐르지만\n",
        "신경망에서는 연속적인 실수가 흐른다. \n",
        "공통점 : 둘 다 입력이 작을 때의 출력은 0에 가깝고 입력이 커지면 출력이 1에 가까워 지는 구조이다. 입력이 아무리 작거나 커져도 출력은 0에서 1사이 이다."
      ],
      "metadata": {
        "id": "bD6gae6ii9Gb"
      }
    },
    {
      "cell_type": "markdown",
      "source": [
        "#3.2.6 비선형함수\n",
        "계단함수와 시그모이드 함수의 공통점은 비선형 함수라는 것.\n",
        "선형 함수 : 변환기에 무언가를 입력했을 때 출력이 입력의 상수배 만큼 변하는 함수\n",
        "비선형 함수 : 직선 1 개로는 그릴 수 없는 함수로, 선형이 아닌 함수.\n",
        "\n",
        "신경망에서는 선형함수를 사용하지 않음\n",
        "-> 선형 함수를 사용하면 층을 아뮈 깊게 해도 은닉층이 없는 네트워크로 같은 기능을 할 수 있다. p.75 예시 참고"
      ],
      "metadata": {
        "id": "1iiIXVNWnaPh"
      }
    },
    {
      "cell_type": "markdown",
      "source": [
        "#3.2.7 ReLU 함수\n",
        "입력이 0을 넘으면 그 입력을 그대로 출력하고, 0이하면 0을 출력한다. \n"
      ],
      "metadata": {
        "id": "4jcboSvhokrL"
      }
    },
    {
      "cell_type": "code",
      "source": [
        "def relu(x):\n",
        "  return np.maximum(0,x)"
      ],
      "metadata": {
        "id": "7rxPGCqXir4q"
      },
      "execution_count": null,
      "outputs": []
    },
    {
      "cell_type": "markdown",
      "source": [
        "#3.3.1 다차원 배열\n",
        ":숫자의 집합. 숫자가 한 줄로 늘어선 것, 직사각형으로 늘어놓은 것, 3차원으로 늘어옿은 것, N차원으로 나열하는 것 등 ..."
      ],
      "metadata": {
        "id": "bGmNcZPEqt4e"
      }
    },
    {
      "cell_type": "code",
      "source": [
        "import numpy as np\n",
        "A = np.array([1,2,3,4])\n",
        "print(A)"
      ],
      "metadata": {
        "colab": {
          "base_uri": "https://localhost:8080/"
        },
        "id": "5KClyRW-qaIF",
        "outputId": "0f9ab7fb-2aac-4ae0-c703-f9b6159f65ba"
      },
      "execution_count": null,
      "outputs": [
        {
          "output_type": "stream",
          "name": "stdout",
          "text": [
            "[1 2 3 4]\n"
          ]
        }
      ]
    },
    {
      "cell_type": "code",
      "source": [
        "np.ndim(A) # 배열의 차원 수"
      ],
      "metadata": {
        "colab": {
          "base_uri": "https://localhost:8080/"
        },
        "id": "NdugFQhPrAO2",
        "outputId": "7aab5f0f-8cf3-43eb-a1d0-74963fa63078"
      },
      "execution_count": null,
      "outputs": [
        {
          "output_type": "execute_result",
          "data": {
            "text/plain": [
              "1"
            ]
          },
          "metadata": {},
          "execution_count": 19
        }
      ]
    },
    {
      "cell_type": "code",
      "source": [
        "A.shape # 배열의 형상 "
      ],
      "metadata": {
        "colab": {
          "base_uri": "https://localhost:8080/"
        },
        "id": "_pLwZ6qxrDA2",
        "outputId": "3388a416-047b-4828-a781-99be5dfdded1"
      },
      "execution_count": null,
      "outputs": [
        {
          "output_type": "execute_result",
          "data": {
            "text/plain": [
              "(4,)"
            ]
          },
          "metadata": {},
          "execution_count": 20
        }
      ]
    },
    {
      "cell_type": "code",
      "source": [
        "A.shape[0]"
      ],
      "metadata": {
        "colab": {
          "base_uri": "https://localhost:8080/"
        },
        "id": "Q6oLARcVrFFA",
        "outputId": "726cf378-20f8-417c-b4db-38815dc53852"
      },
      "execution_count": null,
      "outputs": [
        {
          "output_type": "execute_result",
          "data": {
            "text/plain": [
              "4"
            ]
          },
          "metadata": {},
          "execution_count": 21
        }
      ]
    },
    {
      "cell_type": "code",
      "source": [
        "# 2차원 배열\n",
        "B = np.array([[1,2],[3,4],[5,6]])\n",
        "print(B)"
      ],
      "metadata": {
        "colab": {
          "base_uri": "https://localhost:8080/"
        },
        "id": "AbPepeOWrHbO",
        "outputId": "066b7178-097a-42c2-ea80-18604ed5aeae"
      },
      "execution_count": null,
      "outputs": [
        {
          "output_type": "stream",
          "name": "stdout",
          "text": [
            "[[1 2]\n",
            " [3 4]\n",
            " [5 6]]\n"
          ]
        }
      ]
    },
    {
      "cell_type": "code",
      "source": [
        "np.ndim(B)"
      ],
      "metadata": {
        "colab": {
          "base_uri": "https://localhost:8080/"
        },
        "id": "NRXok4GerypE",
        "outputId": "aeb2c634-ce87-4930-f0c9-e951d8d293fc"
      },
      "execution_count": null,
      "outputs": [
        {
          "output_type": "execute_result",
          "data": {
            "text/plain": [
              "2"
            ]
          },
          "metadata": {},
          "execution_count": 24
        }
      ]
    },
    {
      "cell_type": "code",
      "source": [
        "B.shape"
      ],
      "metadata": {
        "colab": {
          "base_uri": "https://localhost:8080/"
        },
        "id": "NVn-UHLgr7qQ",
        "outputId": "5682ae02-b114-4b4e-a903-80b0b8ffa128"
      },
      "execution_count": null,
      "outputs": [
        {
          "output_type": "execute_result",
          "data": {
            "text/plain": [
              "(3, 2)"
            ]
          },
          "metadata": {},
          "execution_count": 25
        }
      ]
    },
    {
      "cell_type": "markdown",
      "source": [
        "행 : 배열의 가로 방향\n",
        "열 : 배열의 세로 방향\n",
        "\n",
        "# 3.3.2 행렬의 곱\n",
        "행렬 곱 : 왼쪽 행렬의 행과 오른쪽 행렬의 열을 원소별로 곱하고 그 값들을 더해서 계산"
      ],
      "metadata": {
        "id": "GbjKDSwAsD8n"
      }
    },
    {
      "cell_type": "code",
      "source": [
        "A = np.array([[1,2],[3,4]])\n",
        "A.shape"
      ],
      "metadata": {
        "colab": {
          "base_uri": "https://localhost:8080/"
        },
        "id": "7MvNQvM9r9Kn",
        "outputId": "d6d4e6f9-df2e-4e7e-f926-900fa6eba1f7"
      },
      "execution_count": null,
      "outputs": [
        {
          "output_type": "execute_result",
          "data": {
            "text/plain": [
              "(2, 2)"
            ]
          },
          "metadata": {},
          "execution_count": 27
        }
      ]
    },
    {
      "cell_type": "code",
      "source": [
        "B = np.array([[5,6],[7,8]])\n",
        "B.shape"
      ],
      "metadata": {
        "colab": {
          "base_uri": "https://localhost:8080/"
        },
        "id": "zV32Wsr_sd30",
        "outputId": "4ce03966-5fcd-4c5a-a32b-b40b84ea15cb"
      },
      "execution_count": null,
      "outputs": [
        {
          "output_type": "execute_result",
          "data": {
            "text/plain": [
              "(2, 2)"
            ]
          },
          "metadata": {},
          "execution_count": 28
        }
      ]
    },
    {
      "cell_type": "code",
      "source": [
        "np.dot(A,B) #두 행렬의 곱 계산"
      ],
      "metadata": {
        "colab": {
          "base_uri": "https://localhost:8080/"
        },
        "id": "1BZxdqw-syGO",
        "outputId": "8f7ed838-2e8d-45ff-9b7b-1f7dad843367"
      },
      "execution_count": null,
      "outputs": [
        {
          "output_type": "execute_result",
          "data": {
            "text/plain": [
              "array([[19, 22],\n",
              "       [43, 50]])"
            ]
          },
          "metadata": {},
          "execution_count": 29
        }
      ]
    },
    {
      "cell_type": "markdown",
      "source": [
        "np.dot()\n",
        "입력이 1차원 배열이면 벡터를\n",
        "2차원 배열이면 행렬곱을 계산한다.\n",
        "\n",
        "행렬에서 피연산자의 순서가 다르면 결과값이 다르게 나온다. "
      ],
      "metadata": {
        "id": "BcSG34mHtCdu"
      }
    },
    {
      "cell_type": "code",
      "source": [
        "A = np.array([[1,2,3],[4,5,6]])\n",
        "A.shape"
      ],
      "metadata": {
        "colab": {
          "base_uri": "https://localhost:8080/"
        },
        "id": "D3GxmUC7s03O",
        "outputId": "1dabdb93-e2df-4d23-da7a-8b9b1f9457e7"
      },
      "execution_count": null,
      "outputs": [
        {
          "output_type": "execute_result",
          "data": {
            "text/plain": [
              "(2, 3)"
            ]
          },
          "metadata": {},
          "execution_count": 30
        }
      ]
    },
    {
      "cell_type": "code",
      "source": [
        "B=np.array([[1,2],[3,4],[5,6]])\n",
        "B.shape"
      ],
      "metadata": {
        "colab": {
          "base_uri": "https://localhost:8080/"
        },
        "id": "BE4dv1YKuVwa",
        "outputId": "0c98ba61-1601-4305-805b-86d1bebf3c7e"
      },
      "execution_count": null,
      "outputs": [
        {
          "output_type": "execute_result",
          "data": {
            "text/plain": [
              "(3, 2)"
            ]
          },
          "metadata": {},
          "execution_count": 31
        }
      ]
    },
    {
      "cell_type": "code",
      "source": [
        "np.dot(A,B)"
      ],
      "metadata": {
        "colab": {
          "base_uri": "https://localhost:8080/"
        },
        "id": "Yu54wLaLufA7",
        "outputId": "fc8486c9-ac61-4fc4-b576-8022b4b748e0"
      },
      "execution_count": null,
      "outputs": [
        {
          "output_type": "execute_result",
          "data": {
            "text/plain": [
              "array([[22, 28],\n",
              "       [49, 64]])"
            ]
          },
          "metadata": {},
          "execution_count": 32
        }
      ]
    },
    {
      "cell_type": "code",
      "source": [
        "C = np.array([[1,2],[3,4]])\n",
        "C.cshaoe\n",
        "#. 행렬의 첫 차원과 행렬 C의 0번째 차원이 다르기 대문에"
      ],
      "metadata": {
        "colab": {
          "base_uri": "https://localhost:8080/",
          "height": 193
        },
        "id": "4LsbTXZFuhSj",
        "outputId": "36f09e5b-6540-4d1f-ca6e-69c55cb68864"
      },
      "execution_count": null,
      "outputs": [
        {
          "output_type": "error",
          "ename": "AttributeError",
          "evalue": "ignored",
          "traceback": [
            "\u001b[0;31m---------------------------------------------------------------------------\u001b[0m",
            "\u001b[0;31mAttributeError\u001b[0m                            Traceback (most recent call last)",
            "\u001b[0;32m<ipython-input-33-98bfd90c8102>\u001b[0m in \u001b[0;36m<module>\u001b[0;34m\u001b[0m\n\u001b[1;32m      1\u001b[0m \u001b[0mC\u001b[0m \u001b[0;34m=\u001b[0m \u001b[0mnp\u001b[0m\u001b[0;34m.\u001b[0m\u001b[0marray\u001b[0m\u001b[0;34m(\u001b[0m\u001b[0;34m[\u001b[0m\u001b[0;34m[\u001b[0m\u001b[0;36m1\u001b[0m\u001b[0;34m,\u001b[0m\u001b[0;36m2\u001b[0m\u001b[0;34m]\u001b[0m\u001b[0;34m,\u001b[0m\u001b[0;34m[\u001b[0m\u001b[0;36m3\u001b[0m\u001b[0;34m,\u001b[0m\u001b[0;36m4\u001b[0m\u001b[0;34m]\u001b[0m\u001b[0;34m]\u001b[0m\u001b[0;34m)\u001b[0m\u001b[0;34m\u001b[0m\u001b[0;34m\u001b[0m\u001b[0m\n\u001b[0;32m----> 2\u001b[0;31m \u001b[0mC\u001b[0m\u001b[0;34m.\u001b[0m\u001b[0mcshaoe\u001b[0m\u001b[0;34m\u001b[0m\u001b[0;34m\u001b[0m\u001b[0m\n\u001b[0m",
            "\u001b[0;31mAttributeError\u001b[0m: 'numpy.ndarray' object has no attribute 'cshaoe'"
          ]
        }
      ]
    },
    {
      "cell_type": "code",
      "source": [
        "A.shape"
      ],
      "metadata": {
        "colab": {
          "base_uri": "https://localhost:8080/"
        },
        "id": "ehLYbhVZuvgM",
        "outputId": "dda243ae-853e-42a0-ab4f-51ec5f54e69a"
      },
      "execution_count": null,
      "outputs": [
        {
          "output_type": "execute_result",
          "data": {
            "text/plain": [
              "(2, 3)"
            ]
          },
          "metadata": {},
          "execution_count": 34
        }
      ]
    },
    {
      "cell_type": "code",
      "source": [
        "np.dot(A,C)"
      ],
      "metadata": {
        "colab": {
          "base_uri": "https://localhost:8080/",
          "height": 211
        },
        "id": "urwTdOkvuw4d",
        "outputId": "e42a23ae-6fbc-49bd-e6ce-d87028ebde35"
      },
      "execution_count": null,
      "outputs": [
        {
          "output_type": "error",
          "ename": "ValueError",
          "evalue": "ignored",
          "traceback": [
            "\u001b[0;31m---------------------------------------------------------------------------\u001b[0m",
            "\u001b[0;31mValueError\u001b[0m                                Traceback (most recent call last)",
            "\u001b[0;32m<ipython-input-35-bef0a2d6fb5b>\u001b[0m in \u001b[0;36m<module>\u001b[0;34m\u001b[0m\n\u001b[0;32m----> 1\u001b[0;31m \u001b[0mnp\u001b[0m\u001b[0;34m.\u001b[0m\u001b[0mdot\u001b[0m\u001b[0;34m(\u001b[0m\u001b[0mA\u001b[0m\u001b[0;34m,\u001b[0m\u001b[0mC\u001b[0m\u001b[0;34m)\u001b[0m\u001b[0;34m\u001b[0m\u001b[0;34m\u001b[0m\u001b[0m\n\u001b[0m",
            "\u001b[0;32m<__array_function__ internals>\u001b[0m in \u001b[0;36mdot\u001b[0;34m(*args, **kwargs)\u001b[0m\n",
            "\u001b[0;31mValueError\u001b[0m: shapes (2,3) and (2,2) not aligned: 3 (dim 1) != 2 (dim 0)"
          ]
        }
      ]
    },
    {
      "cell_type": "code",
      "source": [
        "A =np.array([[1,2],[3,4],[5,6]])\n",
        "A.shape"
      ],
      "metadata": {
        "colab": {
          "base_uri": "https://localhost:8080/"
        },
        "id": "Wzw_BxzEu0BB",
        "outputId": "21ec5c9c-40c2-4810-fb40-2f23ffeaff8d"
      },
      "execution_count": null,
      "outputs": [
        {
          "output_type": "execute_result",
          "data": {
            "text/plain": [
              "(3, 2)"
            ]
          },
          "metadata": {},
          "execution_count": 36
        }
      ]
    },
    {
      "cell_type": "code",
      "source": [
        "B = np.array([7,8])\n",
        "B.shape"
      ],
      "metadata": {
        "colab": {
          "base_uri": "https://localhost:8080/"
        },
        "id": "GAMtKIh2vRS7",
        "outputId": "bc10b50a-3a13-4f3b-cb59-67678d7265b9"
      },
      "execution_count": null,
      "outputs": [
        {
          "output_type": "execute_result",
          "data": {
            "text/plain": [
              "(2,)"
            ]
          },
          "metadata": {},
          "execution_count": 37
        }
      ]
    },
    {
      "cell_type": "code",
      "source": [
        "np.dot(A,B)"
      ],
      "metadata": {
        "colab": {
          "base_uri": "https://localhost:8080/"
        },
        "id": "cKMgwyVXvXT3",
        "outputId": "becd3bc1-0205-4909-f3d2-8c2fd3d267a0"
      },
      "execution_count": null,
      "outputs": [
        {
          "output_type": "execute_result",
          "data": {
            "text/plain": [
              "array([23, 53, 83])"
            ]
          },
          "metadata": {},
          "execution_count": 38
        }
      ]
    },
    {
      "cell_type": "markdown",
      "source": [
        "#.3,3,3 신경망에서의 행렬 곱\n",
        "편향과 활성화 함수를 생략, 가중치만 가진 신경망 구현"
      ],
      "metadata": {
        "id": "DDICZHcpvmOr"
      }
    },
    {
      "cell_type": "code",
      "source": [
        "X = np.array([1,2])\n",
        "X.shape"
      ],
      "metadata": {
        "colab": {
          "base_uri": "https://localhost:8080/"
        },
        "id": "striWQ4hvZ7m",
        "outputId": "1cec7c5e-89de-42f0-8f85-091c73a15545"
      },
      "execution_count": null,
      "outputs": [
        {
          "output_type": "execute_result",
          "data": {
            "text/plain": [
              "(2,)"
            ]
          },
          "metadata": {},
          "execution_count": 39
        }
      ]
    },
    {
      "cell_type": "code",
      "source": [
        "W= np.array([[1,3,5],[2,4,6]])\n",
        "print(W)"
      ],
      "metadata": {
        "colab": {
          "base_uri": "https://localhost:8080/"
        },
        "id": "-PhRDOJfwMZq",
        "outputId": "b3ab34de-6c50-47e8-8b5d-8d5f0ef5d780"
      },
      "execution_count": null,
      "outputs": [
        {
          "output_type": "stream",
          "name": "stdout",
          "text": [
            "[[1 3 5]\n",
            " [2 4 6]]\n"
          ]
        }
      ]
    },
    {
      "cell_type": "code",
      "source": [
        "W.shape"
      ],
      "metadata": {
        "colab": {
          "base_uri": "https://localhost:8080/"
        },
        "id": "DKPG3iHswbzz",
        "outputId": "06188826-01f8-4a5b-8679-950bb607072f"
      },
      "execution_count": null,
      "outputs": [
        {
          "output_type": "execute_result",
          "data": {
            "text/plain": [
              "(2, 3)"
            ]
          },
          "metadata": {},
          "execution_count": 41
        }
      ]
    },
    {
      "cell_type": "code",
      "source": [
        "Y = np.dot(X,W)\n",
        "print(Y)"
      ],
      "metadata": {
        "colab": {
          "base_uri": "https://localhost:8080/"
        },
        "id": "kIrknnP6wguR",
        "outputId": "0c455cd3-05e2-4bd1-9b40-cc9e35aa56c9"
      },
      "execution_count": null,
      "outputs": [
        {
          "output_type": "stream",
          "name": "stdout",
          "text": [
            "[ 5 11 17]\n"
          ]
        }
      ]
    },
    {
      "cell_type": "markdown",
      "source": [
        "#3.4 3층 신경망 구현하기\n",
        "\n",
        "입력부터 출력까지의 순방향 처리 구현\n",
        "넘파이의 다차원 배열 사용. \n",
        "\n",
        "신경망에서의 계산을 행렬 계산으로 정리 할 수 있다는 것.\n",
        "신경망 각 층의 계산은 행렬의 곱으로 처리 할 수 있다. \n",
        "\n",
        "가중치 오른쪽 아래의 인덱스 번호는 '다음층 번호, 앞 층 번호' 순으로 !!\n"
      ],
      "metadata": {
        "id": "hIQBZuCmwvds"
      }
    },
    {
      "cell_type": "code",
      "source": [
        "X = np.array([1.0,0.5])\n",
        "W1 = np.array([[0.1,0.3,0.5],[0.2,0.4,0.6]])\n",
        "B1 = np.array([0.1,0.2,0.3])\n",
        "\n",
        "print(W1.shape)\n",
        "print(X.shape)\n",
        "print(B1.shape)\n",
        "\n",
        "A1 = np.dot(X,W1) + B1 # B1은 편향"
      ],
      "metadata": {
        "colab": {
          "base_uri": "https://localhost:8080/"
        },
        "id": "WNac3urlwlNn",
        "outputId": "ddadee34-0783-474a-d968-6bf05cb6e9ab"
      },
      "execution_count": null,
      "outputs": [
        {
          "output_type": "stream",
          "name": "stdout",
          "text": [
            "(2, 3)\n",
            "(2,)\n",
            "(3,)\n"
          ]
        }
      ]
    },
    {
      "cell_type": "code",
      "source": [
        "Z1 = sigmoid(A1)\n",
        "print(A1) \n",
        "print(Z1)\n"
      ],
      "metadata": {
        "colab": {
          "base_uri": "https://localhost:8080/"
        },
        "id": "N015GCiRyai0",
        "outputId": "04db4a83-0d3a-4174-e7d4-3d0bf2dfa37b"
      },
      "execution_count": null,
      "outputs": [
        {
          "output_type": "stream",
          "name": "stdout",
          "text": [
            "[0.3 0.7 1.1]\n",
            "[0.57444252 0.66818777 0.75026011]\n"
          ]
        }
      ]
    },
    {
      "cell_type": "code",
      "source": [
        "W2 = np.array([[0.1,0.4],[0.2,0.5],[0.3,0.6]])\n",
        "B2 = np.array([0.1,0.2])\n",
        "\n",
        "print(Z1.shape)\n",
        "print(W2.shape)\n",
        "print(B2.shape)\n",
        "\n",
        "A2 = np.dot(Z1,W2) +B2 # 편향 더하기\n",
        "Z2 = sigmoid(A2)\n"
      ],
      "metadata": {
        "colab": {
          "base_uri": "https://localhost:8080/"
        },
        "id": "y2FPOqRfzGZP",
        "outputId": "cfc84ce0-8c61-44f9-b4cd-36ce5f64e74b"
      },
      "execution_count": null,
      "outputs": [
        {
          "output_type": "stream",
          "name": "stdout",
          "text": [
            "(3,)\n",
            "(3, 2)\n",
            "(2,)\n"
          ]
        }
      ]
    },
    {
      "cell_type": "code",
      "source": [
        "def identity_function(x): #항등함수 : 입력 그대로 출력 \n",
        "  return x\n",
        "\n",
        "W3 = np.array([[0.1,0.3],[0.2,0.4]])\n",
        "B3 = np.array ([0.1,0.2])\n",
        "\n",
        "A3 = np.dot(Z2,W3)+B3\n",
        "Y = identity_function(A3)"
      ],
      "metadata": {
        "id": "6OoZJKuSztJp"
      },
      "execution_count": null,
      "outputs": []
    },
    {
      "cell_type": "markdown",
      "source": [
        "출력층의 활성화 함수는 문제의 성질에 따라 다르게 사용\n",
        "회귀 - 항등함수 , 2클래스 분류 - 시그모이드 함수, 다중클래스 분류 - 소프트맥스 함수 사용이 일반적"
      ],
      "metadata": {
        "id": "BY419nES5orJ"
      }
    },
    {
      "cell_type": "markdown",
      "source": [
        "#3.4.3 구현 정리\n"
      ],
      "metadata": {
        "id": "H_mVNeUR55us"
      }
    },
    {
      "cell_type": "code",
      "source": [
        "def init_network():\n",
        "  network = {}\n",
        "  network['W1'] = np.array([[0.1,0.3,0.5],[0.2,0.4,0.6]])\n",
        "  network['b1'] = np.array([0.1,0.2,0.3])\n",
        "  network['W2'] = np.array([[0.1,0.4],[0.2,0.5],[0.3,0.6]])\n",
        "  network['b2'] = np.array([0.1,0.2])\n",
        "  network['W3'] = np.array([[0.1,0.3],[0.2,0.4]])\n",
        "  network['b3'] = np.array([0.1,0.2])\n",
        "\n",
        "  return network\n",
        "\n",
        "def forward(network, x):\n",
        "  W1,W2,W3 = network['W1'],network['W2'],network['W3']\n",
        "  b1,b2,b3 = network['b1'],network['b2'],network['b3']\n",
        "\n",
        "  a1 = np.dot(x,W1)+b1\n",
        "  z1 = sigmoid(a1)\n",
        "  a2 = np.dot(z1,W2)+b2\n",
        "  z2 = sigmoid(a2)\n",
        "  a3 = np.dot(z2,W3)+b3\n",
        "  y = identity_function(a3)\n",
        "\n",
        "  return y\n",
        "\n",
        "network = init_network()\n",
        "x = np.array([1.0,0.5])\n",
        "y = forward(network,x)\n",
        "print(y) \n"
      ],
      "metadata": {
        "colab": {
          "base_uri": "https://localhost:8080/",
          "height": 358
        },
        "id": "xZMeSoHW6AeK",
        "outputId": "7bb4dd2f-6f22-4b5c-e174-48f6a795e075"
      },
      "execution_count": null,
      "outputs": [
        {
          "output_type": "error",
          "ename": "NameError",
          "evalue": "ignored",
          "traceback": [
            "\u001b[0;31m---------------------------------------------------------------------------\u001b[0m",
            "\u001b[0;31mNameError\u001b[0m                                 Traceback (most recent call last)",
            "\u001b[0;32m<ipython-input-58-0a210af76471>\u001b[0m in \u001b[0;36m<module>\u001b[0;34m\u001b[0m\n\u001b[1;32m     25\u001b[0m \u001b[0mnetwork\u001b[0m \u001b[0;34m=\u001b[0m \u001b[0minit_network\u001b[0m\u001b[0;34m(\u001b[0m\u001b[0;34m)\u001b[0m\u001b[0;34m\u001b[0m\u001b[0;34m\u001b[0m\u001b[0m\n\u001b[1;32m     26\u001b[0m \u001b[0mx\u001b[0m \u001b[0;34m=\u001b[0m \u001b[0mnp\u001b[0m\u001b[0;34m.\u001b[0m\u001b[0marray\u001b[0m\u001b[0;34m(\u001b[0m\u001b[0;34m[\u001b[0m\u001b[0;36m1.0\u001b[0m\u001b[0;34m,\u001b[0m\u001b[0;36m0.5\u001b[0m\u001b[0;34m]\u001b[0m\u001b[0;34m)\u001b[0m\u001b[0;34m\u001b[0m\u001b[0;34m\u001b[0m\u001b[0m\n\u001b[0;32m---> 27\u001b[0;31m \u001b[0my\u001b[0m \u001b[0;34m=\u001b[0m \u001b[0mforward\u001b[0m\u001b[0;34m(\u001b[0m\u001b[0mnetwork\u001b[0m\u001b[0;34m,\u001b[0m\u001b[0mx\u001b[0m\u001b[0;34m)\u001b[0m\u001b[0;34m\u001b[0m\u001b[0;34m\u001b[0m\u001b[0m\n\u001b[0m\u001b[1;32m     28\u001b[0m \u001b[0mprint\u001b[0m\u001b[0;34m(\u001b[0m\u001b[0my\u001b[0m\u001b[0;34m)\u001b[0m\u001b[0;34m\u001b[0m\u001b[0;34m\u001b[0m\u001b[0m\n",
            "\u001b[0;32m<ipython-input-58-0a210af76471>\u001b[0m in \u001b[0;36mforward\u001b[0;34m(network, x)\u001b[0m\n\u001b[1;32m     19\u001b[0m   \u001b[0mz2\u001b[0m \u001b[0;34m=\u001b[0m \u001b[0msigmoid\u001b[0m\u001b[0;34m(\u001b[0m\u001b[0ma2\u001b[0m\u001b[0;34m)\u001b[0m\u001b[0;34m\u001b[0m\u001b[0;34m\u001b[0m\u001b[0m\n\u001b[1;32m     20\u001b[0m   \u001b[0ma3\u001b[0m \u001b[0;34m=\u001b[0m \u001b[0mnp\u001b[0m\u001b[0;34m.\u001b[0m\u001b[0mdot\u001b[0m\u001b[0;34m(\u001b[0m\u001b[0mz2\u001b[0m\u001b[0;34m,\u001b[0m\u001b[0mW3\u001b[0m\u001b[0;34m)\u001b[0m\u001b[0;34m+\u001b[0m\u001b[0mb3\u001b[0m\u001b[0;34m\u001b[0m\u001b[0;34m\u001b[0m\u001b[0m\n\u001b[0;32m---> 21\u001b[0;31m   \u001b[0my\u001b[0m \u001b[0;34m=\u001b[0m \u001b[0midentity_function\u001b[0m\u001b[0;34m(\u001b[0m\u001b[0ma3\u001b[0m\u001b[0;34m)\u001b[0m\u001b[0;34m\u001b[0m\u001b[0;34m\u001b[0m\u001b[0m\n\u001b[0m\u001b[1;32m     22\u001b[0m \u001b[0;34m\u001b[0m\u001b[0m\n\u001b[1;32m     23\u001b[0m   \u001b[0;32mreturn\u001b[0m \u001b[0my\u001b[0m\u001b[0;34m\u001b[0m\u001b[0;34m\u001b[0m\u001b[0m\n",
            "\u001b[0;31mNameError\u001b[0m: name 'identity_function' is not defined"
          ]
        }
      ]
    },
    {
      "cell_type": "code",
      "source": [],
      "metadata": {
        "id": "Djw9TX7a8ODh"
      },
      "execution_count": null,
      "outputs": []
    }
  ]
}