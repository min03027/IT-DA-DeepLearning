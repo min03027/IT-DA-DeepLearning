{
  "nbformat": 4,
  "nbformat_minor": 0,
  "metadata": {
    "colab": {
      "provenance": [],
      "authorship_tag": "ABX9TyOL2vkshTR8qInsFi7+w7jI",
      "include_colab_link": true
    },
    "kernelspec": {
      "name": "python3",
      "display_name": "Python 3"
    },
    "language_info": {
      "name": "python"
    }
  },
  "cells": [
    {
      "cell_type": "markdown",
      "metadata": {
        "id": "view-in-github",
        "colab_type": "text"
      },
      "source": [
        "<a href=\"https://colab.research.google.com/github/min03027/IT-DA-DeepLearning/blob/main/%EC%9E%90%EB%A3%8C%EA%B5%AC%EC%A1%B0.ipynb\" target=\"_parent\"><img src=\"https://colab.research.google.com/assets/colab-badge.svg\" alt=\"Open In Colab\"/></a>"
      ]
    },
    {
      "cell_type": "code",
      "source": [
        "print(\"수식 : \")\n",
        "check= input()\n",
        "stack=[]\n",
        "count_r= 0\n",
        "rightrev=''\n",
        "count_l =0\n",
        "for i in check:\n",
        "  if i in (')'):\n",
        "    count_r =count_r+1\n",
        "for i in check:\n",
        "    if i in ('('):\n",
        "    count_l = count_l+1\n",
        "    print(count_l)\n",
        "    if i in(')'):\n",
        "    print(count_r)\n",
        "    count_r=count_r-1\n",
        "\n"
      ],
      "metadata": {
        "id": "kZ_auNhtVCOh",
        "colab": {
          "base_uri": "https://localhost:8080/",
          "height": 137
        },
        "outputId": "edd8aa45-2014-4f7f-95da-319d3d1f44c3"
      },
      "execution_count": null,
      "outputs": [
        {
          "output_type": "error",
          "ename": "IndentationError",
          "evalue": "ignored",
          "traceback": [
            "\u001b[0;36m  File \u001b[0;32m\"<ipython-input-8-b5efca00d3d8>\"\u001b[0;36m, line \u001b[0;32m12\u001b[0m\n\u001b[0;31m    count_l = count_l+1\u001b[0m\n\u001b[0m    ^\u001b[0m\n\u001b[0;31mIndentationError\u001b[0m\u001b[0;31m:\u001b[0m expected an indented block\n"
          ]
        }
      ]
    },
    {
      "cell_type": "code",
      "source": [
        "print(\"수식 : \")\n",
        "check = input()\n",
        "stack = []\n",
        "count_r = 0\n",
        "rightrev = ''\n",
        "count_l = 0\n",
        "\n",
        "for i in check:\n",
        "    if i in (')'):\n",
        "        count_r = count_r + 1\n",
        "for i in check:\n",
        "    if i in ('('):\n",
        "        count_l = count_l + 1\n",
        "        print(count_l)\n",
        "    if i in (')'):\n",
        "        print(count_r)\n",
        "        count_r = count_r - 1\n"
      ],
      "metadata": {
        "colab": {
          "base_uri": "https://localhost:8080/"
        },
        "id": "_FQqqy_8hPki",
        "outputId": "e62ec34c-5017-4b87-e1e3-5a108601b16b"
      },
      "execution_count": null,
      "outputs": [
        {
          "output_type": "stream",
          "name": "stdout",
          "text": [
            "수식 : \n",
            "((()))\n",
            "1\n",
            "2\n",
            "3\n",
            "3\n",
            "2\n",
            "1\n"
          ]
        }
      ]
    },
    {
      "cell_type": "code",
      "source": [
        "class Queue(list):\n",
        "  enqueue= list.append\n",
        "  print(Queue)\n",
        "\n",
        "  def dequeue(self):\n",
        "    return self.pop(0)\n",
        "    print(Queue)\n",
        "\n",
        "  def isEmpty(self):\n",
        "   if not self:\n",
        "     print(\"Queue is Empty\")\n",
        "   else:\n",
        "    print(Queue)\n",
        "\n",
        "Queue.isEmpty()\n",
        "Queue(10)\n",
        "Queue(20)\n",
        "Queue(30)\n",
        "Queue.dequeue()\n",
        "\n",
        "\n",
        "\n",
        "\n"
      ],
      "metadata": {
        "colab": {
          "base_uri": "https://localhost:8080/",
          "height": 376
        },
        "id": "cwF5rZ0TqUGZ",
        "outputId": "b052973f-1f29-4178-a2e7-0bc22e5b2aee"
      },
      "execution_count": null,
      "outputs": [
        {
          "output_type": "error",
          "ename": "NameError",
          "evalue": "ignored",
          "traceback": [
            "\u001b[0;31m---------------------------------------------------------------------------\u001b[0m",
            "\u001b[0;31mNameError\u001b[0m                                 Traceback (most recent call last)",
            "\u001b[0;32m<ipython-input-1-05f2cc2cfb41>\u001b[0m in \u001b[0;36m<cell line: 1>\u001b[0;34m()\u001b[0m\n\u001b[0;32m----> 1\u001b[0;31m \u001b[0;32mclass\u001b[0m \u001b[0mQueue\u001b[0m\u001b[0;34m(\u001b[0m\u001b[0mlist\u001b[0m\u001b[0;34m)\u001b[0m\u001b[0;34m:\u001b[0m\u001b[0;34m\u001b[0m\u001b[0;34m\u001b[0m\u001b[0m\n\u001b[0m\u001b[1;32m      2\u001b[0m   \u001b[0menqueue\u001b[0m\u001b[0;34m=\u001b[0m \u001b[0mlist\u001b[0m\u001b[0;34m.\u001b[0m\u001b[0mappend\u001b[0m\u001b[0;34m\u001b[0m\u001b[0;34m\u001b[0m\u001b[0m\n\u001b[1;32m      3\u001b[0m   \u001b[0mprint\u001b[0m\u001b[0;34m(\u001b[0m\u001b[0mQueue\u001b[0m\u001b[0;34m)\u001b[0m\u001b[0;34m\u001b[0m\u001b[0;34m\u001b[0m\u001b[0m\n\u001b[1;32m      4\u001b[0m \u001b[0;34m\u001b[0m\u001b[0m\n\u001b[1;32m      5\u001b[0m   \u001b[0;32mdef\u001b[0m \u001b[0mdequeue\u001b[0m\u001b[0;34m(\u001b[0m\u001b[0mself\u001b[0m\u001b[0;34m)\u001b[0m\u001b[0;34m:\u001b[0m\u001b[0;34m\u001b[0m\u001b[0;34m\u001b[0m\u001b[0m\n",
            "\u001b[0;32m<ipython-input-1-05f2cc2cfb41>\u001b[0m in \u001b[0;36mQueue\u001b[0;34m()\u001b[0m\n\u001b[1;32m      1\u001b[0m \u001b[0;32mclass\u001b[0m \u001b[0mQueue\u001b[0m\u001b[0;34m(\u001b[0m\u001b[0mlist\u001b[0m\u001b[0;34m)\u001b[0m\u001b[0;34m:\u001b[0m\u001b[0;34m\u001b[0m\u001b[0;34m\u001b[0m\u001b[0m\n\u001b[1;32m      2\u001b[0m   \u001b[0menqueue\u001b[0m\u001b[0;34m=\u001b[0m \u001b[0mlist\u001b[0m\u001b[0;34m.\u001b[0m\u001b[0mappend\u001b[0m\u001b[0;34m\u001b[0m\u001b[0;34m\u001b[0m\u001b[0m\n\u001b[0;32m----> 3\u001b[0;31m   \u001b[0mprint\u001b[0m\u001b[0;34m(\u001b[0m\u001b[0mQueue\u001b[0m\u001b[0;34m)\u001b[0m\u001b[0;34m\u001b[0m\u001b[0;34m\u001b[0m\u001b[0m\n\u001b[0m\u001b[1;32m      4\u001b[0m \u001b[0;34m\u001b[0m\u001b[0m\n\u001b[1;32m      5\u001b[0m   \u001b[0;32mdef\u001b[0m \u001b[0mdequeue\u001b[0m\u001b[0;34m(\u001b[0m\u001b[0mself\u001b[0m\u001b[0;34m)\u001b[0m\u001b[0;34m:\u001b[0m\u001b[0;34m\u001b[0m\u001b[0;34m\u001b[0m\u001b[0m\n",
            "\u001b[0;31mNameError\u001b[0m: name 'Queue' is not defined"
          ]
        }
      ]
    },
    {
      "cell_type": "code",
      "source": [
        "class Queue(list):\n",
        "    def enqueue(self, item):\n",
        "        self.append(item)\n",
        "\n",
        "    def dequeue(self):\n",
        "        if not self:\n",
        "            print(\"Queue is empty\")\n",
        "        else:\n",
        "            return self.pop(0)\n",
        "\n",
        "    def is_empty(self):\n",
        "        if not self:\n",
        "            print(\"Queue is empty\")\n",
        "        else:\n",
        "            print(\"Queue is not empty\")\n",
        "\n",
        "q = Queue()\n",
        "q.is_empty()\n",
        "q.enqueue(10)\n",
        "print(q)\n",
        "q.enqueue(20)\n",
        "print(q)\n",
        "q.enqueue(30)\n",
        "print(q)\n",
        "q.dequeue() \n",
        "print(q)\n",
        "q.dequeue() \n",
        "print(q)\n",
        "q.dequeue() \n",
        "q.dequeue()"
      ],
      "metadata": {
        "colab": {
          "base_uri": "https://localhost:8080/"
        },
        "id": "NV8IFG90P3ya",
        "outputId": "c574872c-8acd-49f9-c219-163f82b73ea3"
      },
      "execution_count": null,
      "outputs": [
        {
          "output_type": "stream",
          "name": "stdout",
          "text": [
            "Queue is empty\n",
            "[10]\n",
            "[10, 20]\n",
            "[10, 20, 30]\n",
            "[20, 30]\n",
            "[30]\n",
            "Queue is empty\n"
          ]
        }
      ]
    },
    {
      "cell_type": "code",
      "source": [],
      "metadata": {
        "id": "d1ylt-iJQV5n"
      },
      "execution_count": null,
      "outputs": []
    }
  ]
}